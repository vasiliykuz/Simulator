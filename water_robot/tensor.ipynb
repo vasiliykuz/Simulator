{
 "cells": [
  {
   "cell_type": "code",
   "execution_count": 9,
   "metadata": {},
   "outputs": [],
   "source": [
    "def tensor(toi, mass, volume, s=1):\n",
    "    \n",
    "    return mass/volume * toi * s**(-5)"
   ]
  },
  {
   "cell_type": "code",
   "execution_count": 10,
   "metadata": {},
   "outputs": [
    {
     "data": {
      "text/plain": [
       "array([[4.16038097e-06, 0.00000000e+00, 0.00000000e+00],\n",
       "       [0.00000000e+00, 8.22938960e-05, 0.00000000e+00],\n",
       "       [0.00000000e+00, 0.00000000e+00, 8.10116152e-05]])"
      ]
     },
     "execution_count": 10,
     "metadata": {},
     "output_type": "execute_result"
    }
   ],
   "source": [
    "import numpy as np\n",
    "mass = 0.02\n",
    "volume = 0.000198\n",
    "s = 100\n",
    "toi = np.array([[411.877716, 0, 0], [0, 8147.095703, 0], [0, 0, 8020.149902]])\n",
    "\n",
    "tensor(toi, mass, volume, s)"
   ]
  },
  {
   "cell_type": "code",
   "execution_count": null,
   "metadata": {},
   "outputs": [],
   "source": []
  }
 ],
 "metadata": {
  "kernelspec": {
   "display_name": "Python 3",
   "language": "python",
   "name": "python3"
  },
  "language_info": {
   "codemirror_mode": {
    "name": "ipython",
    "version": 3
   },
   "file_extension": ".py",
   "mimetype": "text/x-python",
   "name": "python",
   "nbconvert_exporter": "python",
   "pygments_lexer": "ipython3",
   "version": "3.8.8"
  }
 },
 "nbformat": 4,
 "nbformat_minor": 4
}
